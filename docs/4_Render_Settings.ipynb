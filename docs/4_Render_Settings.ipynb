{
 "cells": [
  {
   "cell_type": "markdown",
   "metadata": {},
   "source": [
    "# Render Settings\n",
    "The render settings in the graph visualization library allow for customizing various aspects of graph rendering, including node appearance, edge appearance, label rendering, and event handling. Below are descriptions and examples for each setting, grouped by functionality."
   ]
  },
  {
   "cell_type": "code",
   "execution_count": 3,
   "metadata": {
    "dotnet_interactive": {
     "language": "fsharp"
    },
    "polyglot_notebook": {
     "kernelName": "fsharp"
    }
   },
   "outputs": [],
   "source": [
    "//Sigma.NET and Sigma.NET.Interactive\n",
    "#i \"nuget: C:/Users/lukas/Documents/GitHub/Project/Sigma.NET/pkg\"\n",
    "#r \"nuget: Sigma.NET, 0.0.0-dev\"\n",
    "#r \"nuget: Sigma.NET.Interactive, 0.0.0-dev\"\n",
    "//Additional Librarys\n",
    "#r \"nuget: DynamicObj, 2.0.0\"\n",
    "#r \"nuget: Newtonsoft.Json\"\n",
    "#r \"nuget: Giraffe.ViewEngine, 1.4.0\"\n",
    "\n",
    "\n",
    "open Sigma.NET\n",
    "open Sigma.NET.Interactive\n",
    "\n",
    "open System\n",
    "open DynamicObj\n",
    "open Newtonsoft.Json\n",
    "open Giraffe.ViewEngine"
   ]
  },
  {
   "cell_type": "markdown",
   "metadata": {},
   "source": [
    "In this example, the nodes [1; 2; 3; 4; 5] are created and labeled with their respective numbers. The edges connect specific node pairs, such as (1, 3) and (2, 4). The graph is then constructed by adding the nodes and edges to an empty graph."
   ]
  },
  {
   "cell_type": "code",
   "execution_count": 36,
   "metadata": {
    "dotnet_interactive": {
     "language": "fsharp"
    },
    "polyglot_notebook": {
     "kernelName": "fsharp"
    }
   },
   "outputs": [],
   "source": [
    "let renderExampleGraph = \n",
    "    let nodes = [1;2;3;4;5] |> List.map (fun x -> Node.Init(string x,DisplayData.Init(Label = string x, Size= 15))) //Initiation Nodes\n",
    "    let edges = [1,3;1,5;3,5;2,4] |> List.map (fun (x,y) -> Edge.Init(string x,string y, DisplayData=DisplayData.Init(Label = String.concat \"-\" [string x;string y]))) //Initiating Edges\n",
    "    VisGraph.empty() //Creating a new instance of VisGraph\n",
    "    |> VisGraph. withNodes(nodes) //adding Nodes to the empty Visgraph\n",
    "    |> VisGraph.withEdges(edges) // Adding Edges to the Graph\n",
    "renderExampleGraph"
   ]
  },
  {
   "cell_type": "markdown",
   "metadata": {},
   "source": [
    "## Nodes\n",
    "These settings affect the rendering of nodes in the graph.\n",
    "### 'DefaultNodeColor'\n",
    "Sets the default color of nodes."
   ]
  },
  {
   "cell_type": "code",
   "execution_count": 5,
   "metadata": {
    "dotnet_interactive": {
     "language": "fsharp"
    },
    "polyglot_notebook": {
     "kernelName": "fsharp"
    }
   },
   "outputs": [],
   "source": [
    "renderExampleGraph\n",
    "|> VisGraph.withRenderer(Render.Settings.Init(DefaultNodeColor = \"#FF5733\"))"
   ]
  },
  {
   "cell_type": "markdown",
   "metadata": {},
   "source": [
    "### 'DefaultNodeType'\n",
    "Defines the default type of nodes (e.g., -Circle-)"
   ]
  },
  {
   "cell_type": "code",
   "execution_count": 6,
   "metadata": {
    "dotnet_interactive": {
     "language": "fsharp"
    },
    "polyglot_notebook": {
     "kernelName": "fsharp"
    }
   },
   "outputs": [],
   "source": [
    "renderExampleGraph\n",
    "|> VisGraph.withRenderer(Render.Settings.Init(DefaultNodeType = StyleParam.NodeType.Circle))"
   ]
  },
  {
   "cell_type": "markdown",
   "metadata": {},
   "source": [
    "### 'NodeReducer'\n",
    "Applies a custom node reducer function for advanced node rendering."
   ]
  },
  {
   "cell_type": "code",
   "execution_count": 7,
   "metadata": {
    "dotnet_interactive": {
     "language": "fsharp"
    },
    "polyglot_notebook": {
     "kernelName": "fsharp"
    }
   },
   "outputs": [],
   "source": [
    "// Node reducer wollt ich noch ein issue auf github machen\n",
    "renderExampleGraph\n",
    "|> VisGraph.withRenderer(Render.Settings.Init(NodeReducer = \"customNodeReducer\"))"
   ]
  },
  {
   "cell_type": "markdown",
   "metadata": {},
   "source": [
    "## Edges\n",
    "These settings control the rendering of edges between nodes.\n",
    "### 'DefaultEdgeColor'\n",
    "Sets the default color of edges."
   ]
  },
  {
   "cell_type": "code",
   "execution_count": 8,
   "metadata": {
    "dotnet_interactive": {
     "language": "fsharp"
    },
    "polyglot_notebook": {
     "kernelName": "fsharp"
    }
   },
   "outputs": [],
   "source": [
    "renderExampleGraph\n",
    "|> VisGraph.withRenderer(Render.Settings.Init(DefaultEdgeColor = \"#33FF57\"))"
   ]
  },
  {
   "cell_type": "markdown",
   "metadata": {},
   "source": [
    "### 'DefaultEdgeType'\n",
    "Specifies the default type of edges (e.g., Line, Arrow, etc.)."
   ]
  },
  {
   "cell_type": "code",
   "execution_count": 9,
   "metadata": {
    "dotnet_interactive": {
     "language": "fsharp"
    },
    "polyglot_notebook": {
     "kernelName": "fsharp"
    }
   },
   "outputs": [],
   "source": [
    "renderExampleGraph\n",
    "|> VisGraph.withRenderer(Render.Settings.Init(DefaultEdgeType = StyleParam.EdgeType.Arrow))"
   ]
  },
  {
   "cell_type": "markdown",
   "metadata": {},
   "source": [
    "### 'EdgeReducer'\n",
    "Applies a custom edge reducer function for advanced edge rendering."
   ]
  },
  {
   "cell_type": "code",
   "execution_count": 10,
   "metadata": {
    "dotnet_interactive": {
     "language": "fsharp"
    },
    "polyglot_notebook": {
     "kernelName": "fsharp"
    }
   },
   "outputs": [],
   "source": [
    "//hier wahrscheinlich auch ein issue machen weil ka ob der reducer funktioniert\n",
    "renderExampleGraph\n",
    "|> VisGraph.withRenderer(Render.Settings.Init(EdgeReducer = \"customEdgeReducer\"))"
   ]
  },
  {
   "cell_type": "markdown",
   "metadata": {},
   "source": [
    "## Labels\n",
    "These settings control the appearance and behavior of labels associated with nodes and edges.\n",
    "\n",
    "### 'RenderLabels'\n",
    "Determines whether node labels should be rendered."
   ]
  },
  {
   "cell_type": "code",
   "execution_count": 11,
   "metadata": {
    "dotnet_interactive": {
     "language": "fsharp"
    },
    "polyglot_notebook": {
     "kernelName": "fsharp"
    }
   },
   "outputs": [],
   "source": [
    "renderExampleGraph\n",
    "|> VisGraph.withRenderer(Render.Settings.Init(RenderLabels = true))"
   ]
  },
  {
   "cell_type": "markdown",
   "metadata": {},
   "source": [
    "### 'RenderEdgeLabels'\n",
    "Determines whether edge labels should be rendered."
   ]
  },
  {
   "cell_type": "code",
   "execution_count": 12,
   "metadata": {
    "dotnet_interactive": {
     "language": "fsharp"
    },
    "polyglot_notebook": {
     "kernelName": "fsharp"
    }
   },
   "outputs": [],
   "source": [
    "renderExampleGraph\n",
    "|> VisGraph.withRenderer(Render.Settings.Init(RenderEdgeLabels = true))"
   ]
  },
  {
   "cell_type": "markdown",
   "metadata": {},
   "source": [
    "### 'LabelFont'\n",
    "Specifies the font used for node labels."
   ]
  },
  {
   "cell_type": "code",
   "execution_count": 13,
   "metadata": {
    "dotnet_interactive": {
     "language": "fsharp"
    },
    "polyglot_notebook": {
     "kernelName": "fsharp"
    }
   },
   "outputs": [],
   "source": [
    "renderExampleGraph\n",
    "|> VisGraph.withRenderer(Render.Settings.Init(LabelFont = \"Arial\"))"
   ]
  },
  {
   "cell_type": "markdown",
   "metadata": {},
   "source": [
    "### 'LabelSize'\n",
    "Sets the font size for node labels."
   ]
  },
  {
   "cell_type": "code",
   "execution_count": 14,
   "metadata": {
    "dotnet_interactive": {
     "language": "fsharp"
    },
    "polyglot_notebook": {
     "kernelName": "fsharp"
    }
   },
   "outputs": [],
   "source": [
    "renderExampleGraph\n",
    "|> VisGraph.withRenderer(Render.Settings.Init(LabelSize = 30))"
   ]
  },
  {
   "cell_type": "markdown",
   "metadata": {},
   "source": [
    "### 'LabelWeight'\n",
    "Defines the font weight (e.g., Normal, Bold) for node labels."
   ]
  },
  {
   "cell_type": "code",
   "execution_count": 15,
   "metadata": {
    "dotnet_interactive": {
     "language": "fsharp"
    },
    "polyglot_notebook": {
     "kernelName": "fsharp"
    }
   },
   "outputs": [],
   "source": [
    "renderExampleGraph\n",
    "|> VisGraph.withRenderer(Render.Settings.Init(LabelWeight = \"Bold\"))"
   ]
  },
  {
   "cell_type": "markdown",
   "metadata": {},
   "source": [
    "### 'LabelColor'\n",
    "Sets the color of node labels. You can use either a specific color or a reference."
   ]
  },
  {
   "cell_type": "code",
   "execution_count": 16,
   "metadata": {
    "dotnet_interactive": {
     "language": "fsharp"
    },
    "polyglot_notebook": {
     "kernelName": "fsharp"
    }
   },
   "outputs": [],
   "source": [
    "renderExampleGraph\n",
    "|> VisGraph.withRenderer(Render.Settings.Init(LabelColor = Render.ColorOrReference.Init(\"#ffd700\")))"
   ]
  },
  {
   "cell_type": "markdown",
   "metadata": {},
   "source": [
    "### 'EdgeLabelFont'\n",
    "Specifies the font used for edge labels."
   ]
  },
  {
   "cell_type": "code",
   "execution_count": 17,
   "metadata": {
    "dotnet_interactive": {
     "language": "fsharp"
    },
    "polyglot_notebook": {
     "kernelName": "fsharp"
    }
   },
   "outputs": [],
   "source": [
    "renderExampleGraph\n",
    "|> VisGraph.withRenderer(Render.Settings.Init(EdgeLabelFont = \"Courier New\"))"
   ]
  },
  {
   "cell_type": "markdown",
   "metadata": {},
   "source": [
    "### 'EdgeLabelSize'\n",
    "Sets the font size for edge labels."
   ]
  },
  {
   "cell_type": "code",
   "execution_count": 18,
   "metadata": {
    "dotnet_interactive": {
     "language": "fsharp"
    },
    "polyglot_notebook": {
     "kernelName": "fsharp"
    }
   },
   "outputs": [],
   "source": [
    "renderExampleGraph\n",
    "|> VisGraph.withRenderer(Render.Settings.Init(EdgeLabelSize = 30, RenderEdgeLabels = true))"
   ]
  },
  {
   "cell_type": "markdown",
   "metadata": {},
   "source": [
    "### 'EdgeLabelWeight'\n",
    "Defines the font weight for edge labels."
   ]
  },
  {
   "cell_type": "code",
   "execution_count": 19,
   "metadata": {
    "dotnet_interactive": {
     "language": "fsharp"
    },
    "polyglot_notebook": {
     "kernelName": "fsharp"
    }
   },
   "outputs": [],
   "source": [
    "renderExampleGraph\n",
    "|> VisGraph.withRenderer(Render.Settings.Init(EdgeLabelWeight = \"Normal\"))"
   ]
  },
  {
   "cell_type": "markdown",
   "metadata": {},
   "source": [
    "### 'EdgeLabelColor'\n",
    "Sets the color of edge labels."
   ]
  },
  {
   "cell_type": "code",
   "execution_count": 20,
   "metadata": {
    "dotnet_interactive": {
     "language": "fsharp"
    },
    "polyglot_notebook": {
     "kernelName": "fsharp"
    }
   },
   "outputs": [],
   "source": [
    "renderExampleGraph\n",
    "|> VisGraph.withRenderer(Render.Settings.Init(EdgeLabelColor = Render.ColorOrReference.Init(\"#008b8b\"), RenderEdgeLabels = true))\n"
   ]
  },
  {
   "cell_type": "markdown",
   "metadata": {},
   "source": [
    "### 'LabelDensity'\n",
    "Controls the density of label rendering, impacting how many labels appear based on zoom and space."
   ]
  },
  {
   "cell_type": "code",
   "execution_count": 21,
   "metadata": {
    "dotnet_interactive": {
     "language": "fsharp"
    },
    "polyglot_notebook": {
     "kernelName": "fsharp"
    }
   },
   "outputs": [],
   "source": [
    "renderExampleGraph\n",
    "|> VisGraph.withRenderer(Render.Settings.Init(LabelDensity = 80))"
   ]
  },
  {
   "cell_type": "markdown",
   "metadata": {},
   "source": [
    "### 'LabelGridCellSize'\n",
    "Sets the size of the grid cells used for label placement, which can help avoid label overlaps."
   ]
  },
  {
   "cell_type": "code",
   "execution_count": 22,
   "metadata": {
    "dotnet_interactive": {
     "language": "fsharp"
    },
    "polyglot_notebook": {
     "kernelName": "fsharp"
    }
   },
   "outputs": [],
   "source": [
    "renderExampleGraph\n",
    "|> VisGraph.withRenderer(Render.Settings.Init(LabelGridCellSize = 10))"
   ]
  },
  {
   "cell_type": "markdown",
   "metadata": {},
   "source": [
    "### 'LabelRenderedSizeThreshold'\n",
    "Defines the minimum size threshold at which labels are rendered."
   ]
  },
  {
   "cell_type": "code",
   "execution_count": 23,
   "metadata": {
    "dotnet_interactive": {
     "language": "fsharp"
    },
    "polyglot_notebook": {
     "kernelName": "fsharp"
    }
   },
   "outputs": [],
   "source": [
    "renderExampleGraph\n",
    "|> VisGraph.withRenderer(Render.Settings.Init(LabelRenderedSizeThreshold = 5))"
   ]
  },
  {
   "cell_type": "markdown",
   "metadata": {},
   "source": [
    "## Interactivity\n",
    "These settings control the interactive behavior of the graph, including events triggered by user actions.\n",
    "\n",
    "### 'EnableEdgeClickEvents'\n",
    "Enables or disables click events on edges."
   ]
  },
  {
   "cell_type": "code",
   "execution_count": 24,
   "metadata": {
    "dotnet_interactive": {
     "language": "fsharp"
    },
    "polyglot_notebook": {
     "kernelName": "fsharp"
    }
   },
   "outputs": [],
   "source": [
    "renderExampleGraph\n",
    "|> VisGraph.withRenderer(Render.Settings.Init(EnableEdgeClickEvents = true))"
   ]
  },
  {
   "cell_type": "markdown",
   "metadata": {},
   "source": [
    "### 'EnableEdgeWheelEvents'\n",
    "Enables or disables wheel events (e.g., scrolling) on edges."
   ]
  },
  {
   "cell_type": "code",
   "execution_count": 25,
   "metadata": {
    "dotnet_interactive": {
     "language": "fsharp"
    },
    "polyglot_notebook": {
     "kernelName": "fsharp"
    }
   },
   "outputs": [],
   "source": [
    "renderExampleGraph\n",
    "|> VisGraph.withRenderer(Render.Settings.Init(EnableEdgeWheelEvents = true))"
   ]
  },
  {
   "cell_type": "markdown",
   "metadata": {},
   "source": [
    "### 'EnableEdgeHoverEvents'\n",
    "Enables or disables hover events on edges."
   ]
  },
  {
   "cell_type": "code",
   "execution_count": 26,
   "metadata": {
    "dotnet_interactive": {
     "language": "fsharp"
    },
    "polyglot_notebook": {
     "kernelName": "fsharp"
    }
   },
   "outputs": [],
   "source": [
    "renderExampleGraph\n",
    "|> VisGraph.withRenderer(Render.Settings.Init(EnableEdgeHoverEvents = true))"
   ]
  },
  {
   "cell_type": "markdown",
   "metadata": {},
   "source": [
    "## Performance and Rendering\n",
    "These settings affect the performance and overall rendering behavior of the graph.\n",
    "\n",
    "### 'HideEdgesOnMove'\n",
    "Temporarily hides edges when moving the graph for performance improvements."
   ]
  },
  {
   "cell_type": "code",
   "execution_count": 27,
   "metadata": {
    "dotnet_interactive": {
     "language": "fsharp"
    },
    "polyglot_notebook": {
     "kernelName": "fsharp"
    }
   },
   "outputs": [],
   "source": [
    "renderExampleGraph\n",
    "|> VisGraph.withRenderer(Render.Settings.Init(HideEdgesOnMove = true))"
   ]
  },
  {
   "cell_type": "markdown",
   "metadata": {},
   "source": [
    "### 'HideLabelsOnMove'\n",
    "Temporarily hides labels when moving the graph to improve performance."
   ]
  },
  {
   "cell_type": "code",
   "execution_count": 28,
   "metadata": {
    "dotnet_interactive": {
     "language": "fsharp"
    },
    "polyglot_notebook": {
     "kernelName": "fsharp"
    }
   },
   "outputs": [],
   "source": [
    "renderExampleGraph\n",
    "|> VisGraph.withRenderer(Render.Settings.Init(HideLabelsOnMove = true))"
   ]
  },
  {
   "cell_type": "markdown",
   "metadata": {},
   "source": [
    "### 'ZIndex'\n",
    "Enables or disables the usage of Z-index to control layering of nodes and edges"
   ]
  },
  {
   "cell_type": "code",
   "execution_count": 29,
   "metadata": {
    "dotnet_interactive": {
     "language": "fsharp"
    },
    "polyglot_notebook": {
     "kernelName": "fsharp"
    }
   },
   "outputs": [],
   "source": [
    "renderExampleGraph\n",
    "|> VisGraph.withRenderer(Render.Settings.Init(ZIndex = true))"
   ]
  },
  {
   "cell_type": "markdown",
   "metadata": {},
   "source": [
    "### 'StagePadding'\n",
    "Sets the padding around the rendering stage (i.e., the area where the graph is rendered)."
   ]
  },
  {
   "cell_type": "code",
   "execution_count": 30,
   "metadata": {
    "dotnet_interactive": {
     "language": "fsharp"
    },
    "polyglot_notebook": {
     "kernelName": "fsharp"
    }
   },
   "outputs": [],
   "source": [
    "renderExampleGraph\n",
    "|> VisGraph.withRenderer(Render.Settings.Init(StagePadding = 20))"
   ]
  },
  {
   "cell_type": "markdown",
   "metadata": {},
   "source": [
    "## Camera\n",
    "These settings control the camera's behavior, including zoom limits.\n",
    "\n",
    "### 'MinCameraRatio'\n",
    "Defines the minimum zoom level for the camera."
   ]
  },
  {
   "cell_type": "code",
   "execution_count": 31,
   "metadata": {
    "dotnet_interactive": {
     "language": "fsharp"
    },
    "polyglot_notebook": {
     "kernelName": "fsharp"
    }
   },
   "outputs": [],
   "source": [
    "renderExampleGraph\n",
    "|> VisGraph.withRenderer(Render.Settings.Init(MinCameraRatio = 1))"
   ]
  },
  {
   "cell_type": "markdown",
   "metadata": {},
   "source": [
    "### 'MaxCameraRatio'\n",
    "Defines the maximum zoom level for the camera."
   ]
  },
  {
   "cell_type": "code",
   "execution_count": 32,
   "metadata": {
    "dotnet_interactive": {
     "language": "fsharp"
    },
    "polyglot_notebook": {
     "kernelName": "fsharp"
    }
   },
   "outputs": [],
   "source": [
    "renderExampleGraph\n",
    "|> VisGraph.withRenderer(Render.Settings.Init(MaxCameraRatio = 2))"
   ]
  },
  {
   "cell_type": "markdown",
   "metadata": {},
   "source": [
    "## Custom Renderers\n",
    "These settings allow for the use of custom renderers for different graph components.\n",
    "\n",
    "### 'LabelRenderer'\n",
    "Specifies a custom renderer for node labels."
   ]
  },
  {
   "cell_type": "code",
   "execution_count": 33,
   "metadata": {
    "dotnet_interactive": {
     "language": "fsharp"
    },
    "polyglot_notebook": {
     "kernelName": "fsharp"
    }
   },
   "outputs": [],
   "source": [
    "renderExampleGraph\n",
    "|> VisGraph.withRenderer(Render.Settings.Init(LabelRenderer = \"customLabelRenderer\"))"
   ]
  },
  {
   "cell_type": "markdown",
   "metadata": {},
   "source": [
    "### 'HoverRenderer'\n",
    "Specifies a custom renderer for hover effects."
   ]
  },
  {
   "cell_type": "code",
   "execution_count": 34,
   "metadata": {
    "dotnet_interactive": {
     "language": "fsharp"
    },
    "polyglot_notebook": {
     "kernelName": "fsharp"
    }
   },
   "outputs": [],
   "source": [
    "renderExampleGraph\n",
    "|> VisGraph.withRenderer(Render.Settings.Init(HoverRenderer = \"customHoverRenderer\"))"
   ]
  },
  {
   "cell_type": "markdown",
   "metadata": {},
   "source": [
    "### 'EdgeLabelRenderer'\n",
    "Specifies a custom renderer for edge labels.\n"
   ]
  },
  {
   "cell_type": "code",
   "execution_count": 35,
   "metadata": {
    "dotnet_interactive": {
     "language": "fsharp"
    },
    "polyglot_notebook": {
     "kernelName": "fsharp"
    }
   },
   "outputs": [],
   "source": [
    "renderExampleGraph\n",
    "|> VisGraph.withRenderer(Render.Settings.Init(EdgeLabelRenderer = \"customEdgeLabelRenderer\"))"
   ]
  }
 ],
 "metadata": {
  "kernelspec": {
   "display_name": ".NET (C#)",
   "language": "C#",
   "name": ".net-csharp"
  },
  "polyglot_notebook": {
   "kernelInfo": {
    "defaultKernelName": "csharp",
    "items": [
     {
      "aliases": [],
      "name": "csharp"
     },
     {
      "aliases": [],
      "languageName": "fsharp",
      "name": "fsharp"
     }
    ]
   }
  }
 },
 "nbformat": 4,
 "nbformat_minor": 2
}
