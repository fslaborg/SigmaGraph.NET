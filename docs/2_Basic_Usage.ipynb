{
 "cells": [
  {
   "cell_type": "markdown",
   "metadata": {},
   "source": [
    "# Basic Usage\n",
    "## Installation using NuGet"
   ]
  },
  {
   "cell_type": "code",
   "execution_count": 1,
   "metadata": {
    "dotnet_interactive": {
     "language": "fsharp"
    },
    "polyglot_notebook": {
     "kernelName": "fsharp"
    }
   },
   "outputs": [],
   "source": [
    "//Sigma.NET and Sigma.NET.Interactive\n",
    "#i \"nuget: C:/Users/lukas/Documents/GitHub/Project/Sigma.NET/pkg\"\n",
    "#r \"nuget: Sigma.NET, 0.0.0-dev\"\n",
    "#r \"nuget: Sigma.NET.Interactive, 0.0.0-dev\"\n",
    "//Additional Librarys\n",
    "#r \"nuget: DynamicObj, 2.0.0\"\n",
    "#r \"nuget: Newtonsoft.Json\"\n",
    "#r \"nuget: Giraffe.ViewEngine, 1.4.0\"\n",
    "\n",
    "\n",
    "open Sigma.NET\n",
    "open Sigma.NET.Interactive\n",
    "\n",
    "open System\n",
    "open DynamicObj\n",
    "open Newtonsoft.Json\n",
    "open Giraffe.ViewEngine"
   ]
  },
  {
   "cell_type": "code",
   "execution_count": null,
   "metadata": {
    "dotnet_interactive": {
     "language": "fsharp"
    },
    "polyglot_notebook": {
     "kernelName": "fsharp"
    }
   },
   "outputs": [],
   "source": [
    "VisGraph.empty()\n",
    "|> VisGraph.withNode(Node.Init(\"1\"))"
   ]
  },
  {
   "cell_type": "markdown",
   "metadata": {},
   "source": [
    "## Creating a simple Graph :\n",
    "\n",
    "This code cell demonstrates the process of creating and configuring a graph. It begins by initializing a new, empty graph using VisGraph.empty(). Next, it defines two nodes with identifiers \"1\" and \"2\" through the Node.Init function. An edge is then created to connect these nodes, specified by Edge.Init(\"1\", \"2\"). Finally, the code adds both the nodes and the edge to the graph using VisGraph.withNodes and VisGraph.withEdge, respectively. This results in a graph containing the defined nodes and the connecting edge."
   ]
  },
  {
   "cell_type": "code",
   "execution_count": 2,
   "metadata": {
    "dotnet_interactive": {
     "language": "fsharp"
    },
    "polyglot_notebook": {
     "kernelName": "fsharp"
    }
   },
   "outputs": [],
   "source": [
    "// Initiate a new Graph\n",
    "let newGraph = VisGraph.empty()\n",
    "\n",
    "// Initiate new Nodes \n",
    "let node1 = Node.Init(\"1\")\n",
    "let node2 = Node.Init(\"2\")\n",
    "\n",
    "//Initiate new Edge similar to how you initiate new Nodes\n",
    "let edge1 = Edge.Init(\"1\",\"2\")\n",
    "\n",
    "//Add Nodes and Edges to the Graph \n",
    "newGraph\n",
    "|> VisGraph.withNodes([node1;node2])\n",
    "|> VisGraph.withEdge(edge1)"
   ]
  },
  {
   "cell_type": "markdown",
   "metadata": {},
   "source": [
    "![image info](img/basicUsageGraph1.png)"
   ]
  },
  {
   "cell_type": "markdown",
   "metadata": {},
   "source": [
    "## Customizing nodes and edges:\n",
    "### Basic Customization\n",
    "\n",
    "This code cell illustrates how to create and configure nodes and edges with display attributes in a graph. It begins by defining two nodes, styledNode1 and styledNode2, each with specific display properties such as size and label. The Node.Init function is used to initialize these nodes, where DisplayData.Init sets the display size and label for each node.\n",
    "\n",
    "An edge, styledEdge, is then created to connect the two nodes, also with display properties specified by DisplayData.Init, which sets the edge size.\n",
    "\n",
    "Finally, an empty graph is initialized with VisGraph.empty(), and the previously defined nodes and edge are added to the graph using VisGraph.withNodes and VisGraph.withEdge, respectively. This results in a graph that includes nodes and an edge with customized display attributes."
   ]
  },
  {
   "cell_type": "code",
   "execution_count": null,
   "metadata": {
    "dotnet_interactive": {
     "language": "fsharp"
    },
    "polyglot_notebook": {
     "kernelName": "fsharp"
    }
   },
   "outputs": [],
   "source": [
    "//create Nodes with DisplayData\n",
    "let styledNode1 = Node.Init(key=\"s1\" , DisplayData = DisplayData.Init(Size = 10 , Label = \"Node 1\"))\n",
    "let styledNode2 = Node.Init(key = \"s2\" , DisplayData = DisplayData.Init(Size = 10 , Label = \"Node 2\"))\n",
    "\n",
    "//create edges with DisplayData\n",
    "let styledEdge = Edge.Init(\"s1\" , \"s2\" , DisplayData = DisplayData.Init(Size = 10))\n",
    "\n",
    "VisGraph.empty()\n",
    "|> VisGraph.withNodes([styledNode1 ; styledNode2])\n",
    "|> VisGraph.withEdge(styledEdge)"
   ]
  },
  {
   "cell_type": "markdown",
   "metadata": {},
   "source": [
    "![image info](img/basicUsageGraph2.png)"
   ]
  },
  {
   "cell_type": "markdown",
   "metadata": {},
   "source": [
    "### Color options\n",
    "\n",
    "This code snippet demonstrates the creation of nodes and an edge with specified colors in a graph. It starts by defining two nodes, redNode and greenNode, each initialized with a specific color and size using Node.Init and DisplayData.Init. The redNode is assigned a red color (#ff0000), and the greenNode is assigned a green color (#008000).\n",
    "An edge, yellowEdge, is then created to connect these nodes, with a yellow color (#ffff00) and a specified size, using Edge.Init and DisplayData.Init.\n",
    "\n",
    "The graph gets created by initializing an empty graph with VisGraph.empty(), and then adding the colored nodes and edge to the graph with VisGraph.withNodes and VisGraph.withEdge, respectively. This results in a graph where both nodes and the connecting edge have distinct colors.\n",
    "\n",
    "You can adjust the colors of nodes and edges using [html-color-codes](https://html-color.codes/). "
   ]
  },
  {
   "cell_type": "code",
   "execution_count": null,
   "metadata": {
    "dotnet_interactive": {
     "language": "fsharp"
    },
    "polyglot_notebook": {
     "kernelName": "fsharp"
    }
   },
   "outputs": [],
   "source": [
    "// Create colored Nodes\n",
    "let redNode = Node.Init(\"r\" , DisplayData.Init(Size = 10 , Color = \"#ff0000\"))\n",
    "let greenNode = Node.Init(\"g\" , DisplayData.Init(Size = 10 , Color = \"#008000\"))\n",
    "\n",
    "//Create colored Edge\n",
    "let yellowEdge = Edge.Init(\"r\" , \"g\" , \"y\" , DisplayData.Init(Size = 10 , Color = \"#ffff00\"))\n",
    "\n",
    "VisGraph.empty()\n",
    "|> VisGraph.withNodes([redNode ; greenNode])\n",
    "|> VisGraph.withEdge(yellowEdge)"
   ]
  },
  {
   "cell_type": "markdown",
   "metadata": {},
   "source": [
    "![image info](img/basicUsageGraph3.png)"
   ]
  },
  {
   "cell_type": "markdown",
   "metadata": {},
   "source": [
    "### Visualization\n",
    "\n",
    "To view the graph, you can either use the `Sigma.Net.Interactive` library or display the graph as an HTML file.\n",
    "The code cell demonstrates how to create a graph and display it. First, an empty graph is initialized with VisGraph.empty(). The previously defined nodes (redNode and greenNode) and edge (yellowEdge) are added to the graph using VisGraph.withNodes and VisGraph.withEdge, respectively, creating exampleGraph.\n",
    "\n",
    "The graph is then visualized with the VisGraph.show() function, which renders exampleGraph and allows for graphical inspection.\n",
    "\n"
   ]
  },
  {
   "cell_type": "code",
   "execution_count": 1,
   "metadata": {
    "dotnet_interactive": {
     "language": "fsharp"
    },
    "polyglot_notebook": {
     "kernelName": "fsharp"
    }
   },
   "outputs": [],
   "source": [
    "let exampleGraph =\n",
    "    VisGraph.empty()\n",
    "    |> VisGraph.withNodes([redNode ; greenNode])\n",
    "    |> VisGraph.withEdge(yellowEdge)\n",
    "\n",
    "exampleGraph\n",
    "|> VisGraph.show()"
   ]
  }
 ],
 "metadata": {
  "kernelspec": {
   "display_name": ".NET (C#)",
   "language": "C#",
   "name": ".net-csharp"
  },
  "polyglot_notebook": {
   "kernelInfo": {
    "defaultKernelName": "csharp",
    "items": [
     {
      "aliases": [],
      "name": "csharp"
     },
     {
      "aliases": [],
      "languageName": "fsharp",
      "name": "fsharp"
     }
    ]
   }
  }
 },
 "nbformat": 4,
 "nbformat_minor": 2
}
