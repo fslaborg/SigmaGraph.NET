{
 "cells": [
  {
   "cell_type": "markdown",
   "metadata": {},
   "source": [
    "# Introduction\n",
    "## Library Name \n",
    "Sigma.NET  \n",
    "Sigma.NET.Interactive  \n",
    "## Description\n",
    "Sigma.NET is a powerful and easy-to-use library for visualizing graphs and networks that provides intuitive methods to create, customize, and display   various types of graphs, making it suitable for both beginners and advanced users. Additionally, Sigma.NET.Interactive offers interactive visualization options, allowing users to explore and manipulate graphs in real-time for deeper insights and analysis.\n",
    "\n",
    "### Graphs\n",
    "A graph is a mathematical structure used to model pairwise relationships between objects. It consists of a set of nodes (also called vertices) and a set of edges (also called links or connections) that connect pairs of nodes. Graphs are widely used in various fields such as computer science, biology, social sciences, and network science to represent and analyze networks.\n",
    "\n",
    "### Nodes (Vertices)\n",
    "Nodes are the individual entities or points in a graph. Each node can represent a different object, such as a person in a social network, a gene in a biological network, or a computer in a communication network. Nodes are typically depicted as dots or circles in a graphical representation.\n",
    "\n",
    "### Edges (Links)\n",
    "Edges are the connections between nodes in a graph. Each edge represents a relationship or interaction between two nodes. Edges can be directed or undirected:\n",
    "\n",
    "- **Undirected Edges**: Represent bidirectional relationships where the connection does not have a specific direction (e.g., friendship in a social network).\n",
    "- **Directed Edges**: Represent unidirectional relationships where the connection has a specific direction (e.g., a follower relationship in Twitter).\n",
    "\n",
    "- **Weighted Edges**: Represent relationships where the connection carries a value or weight, indicating the strength or capacity of the link (e.g., the cost of traveling between two cities on a map).\n",
    "\n",
    "- **Unweighted Edges**: Represent relationships where the connection does not have a specific value or weight, treating all links as equal in terms of their significance (e.g., a simple link between nodes in a network graph).\n",
    "\n",
    "These basic concepts form the foundation for understanding and visualizing graphs.\n",
    "\n",
    "## Features:\n",
    "\n",
    "- Simple and intuitive API\n",
    "- Customizable node and edge attributes\n",
    "- Interactive visualization options\n",
    "\n",
    "## Installation\n",
    "Using nuget"
   ]
  },
  {
   "cell_type": "code",
   "execution_count": null,
   "metadata": {
    "dotnet_interactive": {
     "language": "fsharp"
    },
    "polyglot_notebook": {
     "kernelName": "fsharp"
    }
   },
   "outputs": [],
   "source": [
    "//Sigma.NET and Sigma.NET.Interactive\n",
    "#i \"nuget: C:/Users/lukas/Documents/GitHub/Project/Sigma.NET/pkg\"\n",
    "#r \"nuget: Sigma.NET, 0.0.0-dev\"\n",
    "#r \"nuget: Sigma.NET.Interactive, 0.0.0-dev\"\n",
    "\n",
    "open Sigma.NET\n",
    "open Sigma.NET.Interactive"
   ]
  }
 ],
 "metadata": {
  "kernelspec": {
   "display_name": ".NET (F#)",
   "language": "F#",
   "name": ".net-fsharp"
  },
  "polyglot_notebook": {
   "kernelInfo": {
    "defaultKernelName": "fsharp",
    "items": [
     {
      "aliases": [],
      "languageName": "fsharp",
      "name": "fsharp"
     }
    ]
   }
  }
 },
 "nbformat": 4,
 "nbformat_minor": 2
}
