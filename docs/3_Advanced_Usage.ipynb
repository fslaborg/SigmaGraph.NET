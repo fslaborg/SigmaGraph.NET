{
 "cells": [
  {
   "cell_type": "markdown",
   "metadata": {},
   "source": [
    "# Advanced Usage \n",
    "## Installing the required Librarys"
   ]
  },
  {
   "cell_type": "code",
   "execution_count": null,
   "metadata": {
    "dotnet_interactive": {
     "language": "fsharp"
    },
    "polyglot_notebook": {
     "kernelName": "fsharp"
    }
   },
   "outputs": [],
   "source": [
    "//Sigma.NET and Sigma.NET.Interactive\n",
    "#i \"nuget: C:/Users/lukas/Documents/GitHub/Project/Sigma.NET/pkg\"\n",
    "#r \"nuget: Sigma.NET, 0.0.0-dev\"\n",
    "#r \"nuget: Sigma.NET.Interactive, 0.0.0-dev\"\n",
    "//Additional Librarys\n",
    "#r \"nuget: DynamicObj, 2.0.0\"\n",
    "#r \"nuget: Newtonsoft.Json\"\n",
    "#r \"nuget: Giraffe.ViewEngine, 1.4.0\"\n",
    "\n",
    "\n",
    "open Sigma.NET\n",
    "open Sigma.NET.Interactive\n",
    "\n",
    "open System\n",
    "open DynamicObj\n",
    "open Newtonsoft.Json\n",
    "open Giraffe.ViewEngine"
   ]
  },
  {
   "cell_type": "markdown",
   "metadata": {},
   "source": [
    "## Adding multiple nodes at once\n",
    "\n",
    "This code cell demonstrates how to create a graph with a sequence of nodes and edges. First, a sequence of nodes is generated, each initialized with a unique identifier and display attributes such as label and size. Similarly, a sequence of edges is created to connect specified pairs of nodes.\n",
    "\n",
    "An empty graph is initialized with VisGraph.empty(). The sequences of nodes and edges are added to the graph using VisGraph.withNodes and VisGraph.withEdges, respectively. Additionally, a circular layout is applied to the graph using VisGraph.withCircularLayout to arrange the nodes in a circular fashion."
   ]
  },
  {
   "cell_type": "code",
   "execution_count": null,
   "metadata": {
    "dotnet_interactive": {
     "language": "fsharp"
    },
    "polyglot_notebook": {
     "kernelName": "fsharp"
    }
   },
   "outputs": [],
   "source": [
    "//Create a Node-Sequence, in this case a list but you can also use other sequence types like arrays or just a sequence\n",
    "let nodesToAdd = [1..10] |> List.map (fun x -> Node.Init(string x, DisplayData.Init(Label = string x, Size= 15)))\n",
    "\n",
    "// Creating an Edge Sequence\n",
    "let edgesToAdd = [1,2; 2,5; 7,3; 1,4; 8,6; 4,1] |> List.map (fun (x,y) -> Edge.Init(string x,string y))\n",
    "\n",
    "// Add the nodesequence and  edgesequence to an empty graph \n",
    "VisGraph.empty()\n",
    "|> VisGraph.withNodes(nodesToAdd) // add the node sequence\n",
    "|> VisGraph.withEdges(edgesToAdd) // add the edge sequence\n",
    "|> VisGraph.withCircularLayout()  // choosing the desired Layout"
   ]
  },
  {
   "cell_type": "markdown",
   "metadata": {},
   "source": [
    "![image info](img/advancedUsageGraph1.png)"
   ]
  },
  {
   "cell_type": "markdown",
   "metadata": {},
   "source": [
    "## Creating complex Networks and using other Librarys together with Sigma.NET\n",
    "\n",
    "This code cell demonstrates how to create a graph using the Graphoscope and Sigma.NET package and visualize it.\n",
    "\n",
    "First, the Graphoscope package is referenced and imported. Various parameters are defined, including a set of colors for node display and randomization settings. A random graph is then generated using the Bollobas-Riordan model with specified parameters.\n",
    "\n",
    "An empty graph is initialized with VisGraph.empty(). Nodes are added to the graph, each node being assigned a random size, color, and label based on the random graph generated. Similarly, edges are added, each edge connecting nodes with a randomly determined size.\n",
    "\n",
    "The result is exampleVisGRaph, a graph populated with randomly generated nodes and edges, ready for visualization."
   ]
  },
  {
   "cell_type": "code",
   "execution_count": null,
   "metadata": {
    "dotnet_interactive": {
     "language": "fsharp"
    },
    "polyglot_notebook": {
     "kernelName": "fsharp"
    }
   },
   "outputs": [],
   "source": [
    "// Reference the Graphoscope package\n",
    "#r \"nuget: Graphoscope, 0.4.0\"\n",
    "open Graphoscope\n",
    "open Graphoscope.RandomModels\n",
    "\n",
    "// Define colors for nodes\n",
    "let colors = [|\"#F2FFE9\";\"#A6CF98\";\"#557C55\";\"#FA7070\"|]\n",
    "\n",
    "// Initialize parameters for the graph model\n",
    "let N = 50\n",
    "let rnd = new Random()\n",
    "\n",
    "// Create a random graph using the BollobasRiordan model\n",
    "let myBollobasRiordan = RandomModels.BollobasRiordan.initDirectedFGraph N 0.5 0.1 0.4 0.6 0.4 FGraph.empty\n",
    "\n",
    "// Add nodes\n",
    "let exampleVisGRaph =\n",
    "    VisGraph.empty()\n",
    "    |> VisGraph.withNodes[\n",
    "        for node in myBollobasRiordan do                                      \n",
    "            yield Node.Init(key=string node.Key, DisplayData=DisplayData.Init(Size=rnd.Next(1, 18), Color=colors.[rnd.Next(0, 4)], Label=string node.Key))\n",
    "    ]\n",
    "//Add edges\n",
    "    |> VisGraph.withEdges[\n",
    "        for node in myBollobasRiordan do\n",
    "            let pred, t, _ = node.Value\n",
    "            for kv in pred do\n",
    "                yield Edge.Init(source=string kv.Key, target=string t, DisplayData=DisplayData.Init(Size=rnd.Next(1, 3)))\n",
    "    ]\n",
    "exampleVisGRaph"
   ]
  },
  {
   "cell_type": "markdown",
   "metadata": {},
   "source": [
    "![image info](img/advancedUsageGraph2.png)"
   ]
  },
  {
   "cell_type": "markdown",
   "metadata": {},
   "source": [
    "## Layouts\n",
    "### Random Layout\n",
    "\n",
    "This code applies a random layout to the exampleVisGRaph, arranging the nodes in a random configuration for visualization."
   ]
  },
  {
   "cell_type": "code",
   "execution_count": null,
   "metadata": {
    "dotnet_interactive": {
     "language": "fsharp"
    },
    "polyglot_notebook": {
     "kernelName": "fsharp"
    }
   },
   "outputs": [],
   "source": [
    "exampleVisGRaph\n",
    "|> VisGraph.withRandomLayout()"
   ]
  },
  {
   "cell_type": "markdown",
   "metadata": {},
   "source": [
    "![image info](img/advancedUsageGraph3.png)"
   ]
  },
  {
   "cell_type": "markdown",
   "metadata": {},
   "source": [
    "### Circular Layout\n",
    "\n",
    "This code applies a circular layout to the exampleVisGRaph, arranging the nodes in a circular pattern for visualization."
   ]
  },
  {
   "cell_type": "code",
   "execution_count": null,
   "metadata": {
    "dotnet_interactive": {
     "language": "fsharp"
    },
    "polyglot_notebook": {
     "kernelName": "fsharp"
    }
   },
   "outputs": [],
   "source": [
    "exampleVisGRaph\n",
    "|> VisGraph.withCircularLayout()"
   ]
  },
  {
   "cell_type": "markdown",
   "metadata": {},
   "source": [
    "![image info](img/advancedUsageGraph4.png)"
   ]
  },
  {
   "cell_type": "markdown",
   "metadata": {},
   "source": [
    "## Render settings\n",
    "There are many differend render settings you can choose from. You can use this to define a set of render settings before visualizing your graphs to have a homogenous outcome if you are visuallizing multiple graphs. More on render settings can be found in the section \"Render settings\".\n",
    "\n",
    "This code configures the exampleVisGRaph with a custom renderer, setting the label size to 20 and the label color to #FA7070 for visualization."
   ]
  },
  {
   "cell_type": "code",
   "execution_count": null,
   "metadata": {
    "dotnet_interactive": {
     "language": "fsharp"
    },
    "polyglot_notebook": {
     "kernelName": "fsharp"
    }
   },
   "outputs": [],
   "source": [
    "exampleVisGRaph\n",
    "|> VisGraph.withRenderer(Render.Settings.Init(LabelSize = 20, LabelColor=Render.ColorOrReference.Init(Color=\"#FA7070\")))"
   ]
  },
  {
   "cell_type": "markdown",
   "metadata": {},
   "source": [
    "![image info](img/advancedUsageGraph5.png)"
   ]
  },
  {
   "cell_type": "markdown",
   "metadata": {},
   "source": [
    "## Hover selector \n",
    "The hoverselector is a powerfull tool that allows you to keep an overview over big graphs as it lets you hover over each node and see the edges it is part of.\n",
    "This code adds a hover selector to the exampleVisGRaph, enabling interactive hover effects for nodes and edges during visualization."
   ]
  },
  {
   "cell_type": "code",
   "execution_count": null,
   "metadata": {
    "dotnet_interactive": {
     "language": "fsharp"
    },
    "polyglot_notebook": {
     "kernelName": "fsharp"
    }
   },
   "outputs": [],
   "source": [
    "//Adding the HoverSelector option to our graph\n",
    "exampleVisGRaph\n",
    "|> VisGraph.withHoverSelector()"
   ]
  },
  {
   "cell_type": "markdown",
   "metadata": {},
   "source": [
    "![image info](img/advancedUsageGraph6.png)"
   ]
  }
 ],
 "metadata": {
  "kernelspec": {
   "display_name": ".NET (C#)",
   "language": "C#",
   "name": ".net-csharp"
  },
  "polyglot_notebook": {
   "kernelInfo": {
    "defaultKernelName": "csharp",
    "items": [
     {
      "aliases": [],
      "name": "csharp"
     },
     {
      "aliases": [],
      "languageName": "fsharp",
      "name": "fsharp"
     }
    ]
   }
  }
 },
 "nbformat": 4,
 "nbformat_minor": 2
}
